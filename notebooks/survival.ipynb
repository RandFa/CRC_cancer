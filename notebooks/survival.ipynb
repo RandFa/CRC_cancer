{
 "cells": [
  {
   "cell_type": "code",
   "execution_count": 22,
   "id": "4bd93cdc",
   "metadata": {},
   "outputs": [],
   "source": [
    "# importing libraries\n",
    "import pandas as pd\n",
    "import numpy as np"
   ]
  },
  {
   "cell_type": "code",
   "execution_count": 23,
   "id": "e795638a",
   "metadata": {},
   "outputs": [],
   "source": [
    "# load processed dataframes\n",
    "metadata_df = pd.read_csv('../data/cancer_metadata.csv', index_col=0)\n",
    "expression = pd.read_csv('../data/cancer_only_hvg.csv', index_col=0)"
   ]
  }
 ],
 "metadata": {
  "kernelspec": {
   "display_name": "crc_env",
   "language": "python",
   "name": "python3"
  },
  "language_info": {
   "codemirror_mode": {
    "name": "ipython",
    "version": 3
   },
   "file_extension": ".py",
   "mimetype": "text/x-python",
   "name": "python",
   "nbconvert_exporter": "python",
   "pygments_lexer": "ipython3",
   "version": "3.12.11"
  }
 },
 "nbformat": 4,
 "nbformat_minor": 5
}
